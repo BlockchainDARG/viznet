{
 "cells": [
  {
   "cell_type": "markdown",
   "metadata": {},
   "source": [
    "# Cluster Features Extracted from CQQ Dataset"
   ]
  },
  {
   "cell_type": "code",
   "execution_count": null,
   "metadata": {},
   "outputs": [],
   "source": [
    "import os\n",
    "import sys\n",
    "from os.path import join\n",
    "sys.path.append(os.path.dirname(os.getcwd()))\n",
    "from preprocessing.preprocess import process_features_df\n",
    "\n",
    "import numpy as np\n",
    "import scipy as sc\n",
    "import pandas as pd\n",
    "import sklearn\n",
    "from sklearn.decomposition import PCA \n",
    "from sklearn.manifold import TSNE\n",
    "# import umap\n",
    "\n",
    "import seaborn as sns\n",
    "import matplotlib as mpl\n",
    "import matplotlib.pyplot as plt\n",
    "\n",
    "from bokeh.plotting import figure, show, output_file, output_notebook, ColumnDataSource\n",
    "from bokeh.models import PanTool, HoverTool, BoxSelectTool, ZoomInTool, ZoomOutTool, WheelZoomTool, SaveTool\n",
    "from bokeh.io import reset_output\n",
    "from bokeh.io.saving import save\n",
    "\n",
    "from styles import *"
   ]
  },
  {
   "cell_type": "code",
   "execution_count": null,
   "metadata": {},
   "outputs": [],
   "source": [
    "experiment_data_directory = '../pilot_experiment_data/'\n",
    "results_dir = '../results'\n",
    "input_file_name = join(experiment_data_directory, 'dataset_features.tsv')\n",
    "features_df = pd.read_csv(input_file_name, sep='\\t')"
   ]
  },
  {
   "cell_type": "code",
   "execution_count": null,
   "metadata": {},
   "outputs": [],
   "source": [
    "features_df.groupby(['corpus']).size()"
   ]
  },
  {
   "cell_type": "code",
   "execution_count": null,
   "metadata": {},
   "outputs": [],
   "source": [
    "processed_df, fit_imputer, fit_scaler, included_cols, numeric_cols = process_features_df(\n",
    "    features_df,\n",
    "    id_fields=[ 'corpus', 'dataset_id', 'dataset_id_with_combination_number' ],\n",
    "    winsor=99.999,\n",
    "    scaler='standard',\n",
    "    drop_duplicates=True,\n",
    "    return_transforms=True,\n",
    "    secondary_deduplication=None,\n",
    "    verbose=False\n",
    ")"
   ]
  },
  {
   "cell_type": "code",
   "execution_count": null,
   "metadata": {},
   "outputs": [],
   "source": [
    "processed_df.to_csv(join(results_dir, 'dataset_features_processed_winsor-99999_standard.tsv'), sep='\\t', index=False)"
   ]
  },
  {
   "cell_type": "code",
   "execution_count": null,
   "metadata": {},
   "outputs": [],
   "source": [
    "min_per_group = np.min(processed_df.groupby(['corpus']).size())\n",
    "processed_df = processed_df.groupby(['corpus'], as_index=False).apply(lambda x: x.sample(min_per_group))"
   ]
  },
  {
   "cell_type": "code",
   "execution_count": null,
   "metadata": {},
   "outputs": [],
   "source": [
    "processed_df.to_csv(join(results_dir, 'dataset_features_processed_winsor-99999_standard_balanced.tsv'), sep='\\t', index=False)"
   ]
  },
  {
   "cell_type": "code",
   "execution_count": null,
   "metadata": {},
   "outputs": [],
   "source": [
    "processed_df_labels = processed_df[['corpus']]\n",
    "processed_df.drop(['corpus', 'dataset_id', 'dataset_id_with_combination_number'], axis=1, errors='ignore', inplace=True)\n",
    "processed_df.drop(['dataset_id', 'fid'], axis=1, errors='ignore', inplace=True)"
   ]
  },
  {
   "cell_type": "code",
   "execution_count": null,
   "metadata": {},
   "outputs": [],
   "source": [
    "processed_df_labels = processed_df_labels.reset_index()['corpus']"
   ]
  },
  {
   "cell_type": "code",
   "execution_count": null,
   "metadata": {},
   "outputs": [],
   "source": [
    "processed_df_labels"
   ]
  },
  {
   "cell_type": "markdown",
   "metadata": {},
   "source": [
    "# Dimension Reduction"
   ]
  },
  {
   "cell_type": "code",
   "execution_count": null,
   "metadata": {},
   "outputs": [],
   "source": [
    "pca_model = PCA(n_components=0.85).fit(processed_df)\n",
    "print(sum(pca_model.explained_variance_ratio_))\n",
    "print(pca_model.explained_variance_ratio_.cumsum())\n",
    "number_of_principal_components = np.argmax(pca_model.explained_variance_ratio_.cumsum() > 0.85)\n",
    "print(number_of_principal_components)"
   ]
  },
  {
   "cell_type": "code",
   "execution_count": null,
   "metadata": {},
   "outputs": [],
   "source": [
    "pca_projection = pca_model.fit_transform(processed_df)\n",
    "pca_df = pd.DataFrame(pca_projection)"
   ]
  },
  {
   "cell_type": "code",
   "execution_count": null,
   "metadata": {},
   "outputs": [],
   "source": [
    "def normalize(v):\n",
    "    return (v - np.min(v)) / (np.max(v) - np.min(v))"
   ]
  },
  {
   "cell_type": "code",
   "execution_count": null,
   "metadata": {},
   "outputs": [],
   "source": [
    "pca_df_to_plot = pca_df\n",
    "pca_df_to_plot['x'] = pca_df_to_plot[0]\n",
    "pca_df_to_plot['y'] = pca_df_to_plot[1]"
   ]
  },
  {
   "cell_type": "code",
   "execution_count": null,
   "metadata": {},
   "outputs": [],
   "source": [
    "formatted_names = {\n",
    "    'manyeyes': 'Many Eyes',\n",
    "    'plotly': 'Plotly',\n",
    "    'webtables': 'Web Tables',\n",
    "    'opendata': 'Open Data',\n",
    "}"
   ]
  },
  {
   "cell_type": "code",
   "execution_count": null,
   "metadata": {},
   "outputs": [],
   "source": [
    "for perplexity in [75]:\n",
    "    name = 'tsne_perp-{}_pca-{}_nclass-{}'.format(perplexity, number_of_principal_components, min_per_group)\n",
    "    t_sne = TSNE(n_components=2, perplexity=perplexity, verbose=1).fit_transform(pca_projection) \n",
    "    t_sne_df = pd.DataFrame(data=t_sne)\n",
    "    try:\n",
    "        t_sne_df['x'] = t_sne_df[0]\n",
    "        t_sne_df['y'] = t_sne_df[1]\n",
    "        t_sne_df.drop([0, 1], axis=1, inplace=True, errors='ignore')\n",
    "    except: pass\n",
    "    \n",
    "    t_sne_df_with_datasets = pd.concat([ t_sne_df, processed_df_labels], axis=1)\n",
    "    t_sne_df_with_datasets['color'] = t_sne_df_with_datasets['corpus'].map(colors)\n",
    "    t_sne_df_with_datasets['corpus'] = t_sne_df_with_datasets['corpus'].map(formatted_names)\n",
    "\n",
    "    fig, ax = plt.subplots(figsize=(3.5, 3.5))\n",
    "\n",
    "    colors_dict = {\n",
    "        'brown': '#9d755d',\n",
    "        'pink': '#ff9da6',\n",
    "        'green': '#54a24b',\n",
    "        'blue': '#4c78a8',\n",
    "        'orange': '#f58518',\n",
    "        'red': '#e45756',\n",
    "        'purple': '#b279a2',\n",
    "        'teal': '#72b7b2'\n",
    "    }\n",
    "\n",
    "    colors = {\n",
    "        'kim_and_heer': colors_dict['teal'],\n",
    "        'manyeyes': colors_dict['red'],\n",
    "        'plotly': colors_dict['purple'],\n",
    "        'viznet': colors_dict['blue'],\n",
    "        'webtables': colors_dict['green'],\n",
    "        'opendata': colors_dict['orange']\n",
    "    }\n",
    "\n",
    "    corpuses = [ 'webtables', 'plotly', 'manyeyes', 'opendata' ]\n",
    "    formatted_name_colors = { formatted_names[c]: colors[c] for c in corpuses}\n",
    "\n",
    "    for corpus in corpuses:\n",
    "        df = t_sne_df_with_datasets[t_sne_df_with_datasets['corpus'] == formatted_names[corpus]]\n",
    "        df['color'] = df['corpus'].map(formatted_name_colors)\n",
    "\n",
    "        df = df.sample(1000)\n",
    "\n",
    "        plt.scatter(\n",
    "            x=df['x'],\n",
    "            y=df['y'],\n",
    "            s=1,\n",
    "            c=df['color'],\n",
    "            label=formatted_names[corpus]\n",
    "        )\n",
    "\n",
    "    ax.legend(\n",
    "        ncol=3,\n",
    "        loc=9,\n",
    "        bbox_to_anchor=(0.45, -0.05),\n",
    "        frameon=False\n",
    "    )\n",
    "\n",
    "    plt.savefig(join(results_dir, '{}_checkpoint.png'.format(name)), format='png', pad_inches=0.0, bbox_inches='tight')\n",
    "    plt.savefig(join(results_dir, '{}_checkpoint.svg'.format(name)), format='svg', pad_inches=0.0, bbox_inches='tight')\n",
    "    plt.savefig(join(results_dir, '{}_checkpoint.pdf'.format(name)), format='pdf', pad_inches=0.0, bbox_inches='tight')\n",
    "    plt.show()\n",
    "\n",
    "    t_sne_df_with_datasets.to_csv(join(results_dir, '{}.csv'.format(name)), index=False)"
   ]
  },
  {
   "cell_type": "code",
   "execution_count": null,
   "metadata": {},
   "outputs": [],
   "source": [
    "corpuses = [ 'webtables', 'plotly', 'manyeyes', 'opendata' ]\n",
    "formatted_name_colors = { formatted_names[c]: colors[c] for c in corpuses}\n",
    "\n",
    "fig, ax = plt.subplots(figsize=(4, 4.25))\n",
    "for corpus in corpuses:\n",
    "    df = t_sne_df_with_datasets[t_sne_df_with_datasets['corpus'] == formatted_names[corpus]]\n",
    "    df['color'] = df['corpus'].map(formatted_name_colors)\n",
    "\n",
    "    df = df.sample(1000)\n",
    "\n",
    "    plt.scatter(\n",
    "        x=df['x'],\n",
    "        y=df['y'],\n",
    "        s=1,\n",
    "        c=df['color'],\n",
    "        label=formatted_names[corpus]\n",
    "    )\n",
    "    \n",
    "    ax.legend(\n",
    "        ncol=2,\n",
    "        loc=9,\n",
    "        bbox_to_anchor=(0.45, -0.10),\n",
    "        frameon=False\n",
    "    )\n",
    "    \n",
    "    \n",
    "plt.savefig(join(results_dir, '{}_mini.svg'.format(name)), format='svg', pad_inches=0.0, bbox_inches='tight')\n",
    "plt.savefig(join(results_dir, '{}_mini.pdf'.format(name)), format='pdf', pad_inches=0.0, bbox_inches='tight')\n",
    "plt.show()\n"
   ]
  }
 ],
 "metadata": {
  "kernelspec": {
   "display_name": "Python 3",
   "language": "python",
   "name": "python3"
  },
  "language_info": {
   "codemirror_mode": {
    "name": "ipython",
    "version": 3
   },
   "file_extension": ".py",
   "mimetype": "text/x-python",
   "name": "python",
   "nbconvert_exporter": "python",
   "pygments_lexer": "ipython3",
   "version": "3.5.2"
  }
 },
 "nbformat": 4,
 "nbformat_minor": 2
}
